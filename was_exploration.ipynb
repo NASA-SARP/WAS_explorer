{
 "cells": [
  {
   "cell_type": "markdown",
   "id": "739266a4-5098-4c79-a512-0a59728127d8",
   "metadata": {},
   "source": [
    "# WAS Data Exploration\n",
    "\n",
    "This notebook creates interactive visualization tools for exploring the repository of Whole Air Samples (WAS) cans from the NASA Student Airborne Research Program (SARP) field campaigns (2009-2023)."
   ]
  },
  {
   "cell_type": "markdown",
   "id": "330c0b1e-04b8-4e29-a325-26b1f493918c",
   "metadata": {},
   "source": [
    "::::{grid}\n",
    ":gutter: 3\n",
    "\n",
    ":::{grid-item-card} Scatter Plot\n",
    "For comparing two species\n",
    ":::\n",
    "\n",
    ":::{grid-item-card} Map\n",
    "For viewing the spatial distribution of a species\n",
    ":::\n",
    "\n",
    "::::"
   ]
  },
  {
   "cell_type": "markdown",
   "id": "5a383216-619c-4bfc-9637-834930d57a84",
   "metadata": {},
   "source": [
    "## Setup"
   ]
  },
  {
   "cell_type": "code",
   "execution_count": null,
   "id": "6efa6bde-26a2-44de-8c53-68eeb549125f",
   "metadata": {},
   "outputs": [],
   "source": [
    "!pip install openpyxl -qq"
   ]
  },
  {
   "cell_type": "code",
   "execution_count": null,
   "id": "1abde7fd-8dce-44c6-89d2-0c3f8d41d06d",
   "metadata": {},
   "outputs": [],
   "source": [
    "import pandas as pd\n",
    "import geopandas as gpd\n",
    "import hvplot.pandas\n",
    "import geoviews as gv\n",
    "import holoviews as hv\n",
    "import panel as pn"
   ]
  },
  {
   "cell_type": "code",
   "execution_count": null,
   "id": "e66fcfec-ced7-4245-b931-97baa41d4674",
   "metadata": {},
   "outputs": [],
   "source": [
    "pd.options.plotting.backend = 'hvplot'"
   ]
  },
  {
   "cell_type": "code",
   "execution_count": null,
   "id": "00c9f300-041a-454a-aded-861bc7bf710c",
   "metadata": {},
   "outputs": [],
   "source": [
    "# read data file\n",
    "df = pd.read_excel('/home/jovyan/shared-public/NASA-SARP/data/WAS_explorer/data/WAS_SARP_2009_2021_noground.xlsx', skipfooter=6)"
   ]
  },
  {
   "cell_type": "code",
   "execution_count": null,
   "id": "cacd92c8-670a-46bb-a128-87e74f7d2525",
   "metadata": {},
   "outputs": [],
   "source": [
    "# drop columns of all nan\n",
    "df = df.dropna(axis=1, how='all')\n",
    "# add a datetime column\n",
    "df['datetime'] = pd.to_datetime(df.date.astype(str) + ' ' + df.OpenTime.astype(str))"
   ]
  },
  {
   "cell_type": "code",
   "execution_count": null,
   "id": "119350b4-5f6d-4c1e-a37f-5f583b9d9dc8",
   "metadata": {},
   "outputs": [],
   "source": [
    "# create a list of the numeric columns for use in selection widgets\n",
    "numeric_cols = []\n",
    "for index, value in df.dtypes.items():\n",
    "    if value != 'object':\n",
    "        numeric_cols.append(index)"
   ]
  },
  {
   "cell_type": "markdown",
   "id": "aeced191-749d-4c51-8d33-aeb4087f038c",
   "metadata": {},
   "source": [
    "Creating and processing geodataframe"
   ]
  },
  {
   "cell_type": "code",
   "execution_count": null,
   "id": "597dd233-02fa-40b1-bb2d-f7db90863700",
   "metadata": {},
   "outputs": [],
   "source": [
    "geo_df = gpd.GeoDataFrame(\n",
    "    df, geometry=gpd.points_from_xy(df['Longitude'], df['Latitude']), \n",
    "    crs='epsg:4326')"
   ]
  },
  {
   "cell_type": "markdown",
   "id": "0395741a-a8ee-45d1-9b4c-3e8d4269bcb0",
   "metadata": {},
   "source": [
    "## Scatter Plot"
   ]
  },
  {
   "cell_type": "code",
   "execution_count": null,
   "id": "2d40d203-17eb-4495-ae92-287ee48367b7",
   "metadata": {},
   "outputs": [],
   "source": [
    "x = pn.widgets.Select(name='x', options=numeric_cols, value='CH4 (ppmv)')\n",
    "y = pn.widgets.Select(name='y', options=numeric_cols, value='AltP_meters')\n",
    "color_by_select = pn.widgets.Select(name='color by', options=numeric_cols, value='CO2_ppm')\n",
    "\n",
    "color_min = pn.widgets.FloatInput(name='color_min', value=400, step=1e-1, start=0, end=5000)\n",
    "color_max = pn.widgets.FloatInput(name='color_max', value=500, step=1e-1, start=0, end=5000)\n",
    "\n",
    "\n",
    "def points(ds, x, y, colorby, color_min, color_max):\n",
    "    return ds.data.hvplot.points(\n",
    "        x=x, y=y, color=colorby, cmap='viridis', hover_cols=['datetime', 'index'], width=800, \n",
    "        clim=(color_min, color_max),\n",
    "    )\n",
    "\n",
    "pn.Column(pn.Row(pn.Column(x, y, color_by_select), pn.Column(color_min, color_max)),\n",
    "          hv.Dataset(df).apply(points, x=x, y=y, colorby=color_by_select, color_min=color_min, color_max=color_max))"
   ]
  },
  {
   "cell_type": "markdown",
   "id": "22f145d4-b36f-48f8-a114-c9bb25ad8bc9",
   "metadata": {},
   "source": [
    "## Map"
   ]
  },
  {
   "cell_type": "code",
   "execution_count": null,
   "id": "bf25f564-3d30-4cd7-b8cd-bf41e316d66d",
   "metadata": {},
   "outputs": [],
   "source": [
    "color = pn.widgets.Select(name='color', options=numeric_cols)  # df.columns.tolist())\n",
    "float_input = pn.widgets.FloatInput(name='FloatInput', value=5., step=1e-1, start=0, end=1000)\n",
    "size = pn.widgets.IntSlider(start=5, end=15, name='size')\n",
    "\n",
    "poly_plot = gv.Points(geo_df[['geometry']].dropna()).opts(width=600, height=600, colorbar=True,\n",
    "                                                                     toolbar='above', tools=['hover'],\n",
    "                                                                    cmap='inferno', size=12)\n",
    "\n",
    "gv.tile_sources.OSM * poly_plot"
   ]
  },
  {
   "cell_type": "code",
   "execution_count": null,
   "id": "3ad51105-5cb3-44ad-bfb9-487d8c809f1f",
   "metadata": {},
   "outputs": [],
   "source": []
  },
  {
   "cell_type": "code",
   "execution_count": null,
   "id": "704b7d36-397d-43a5-8e68-1662f695dea0",
   "metadata": {},
   "outputs": [],
   "source": []
  }
 ],
 "metadata": {
  "kernelspec": {
   "display_name": "Python 3 (ipykernel)",
   "language": "python",
   "name": "python3"
  },
  "language_info": {
   "codemirror_mode": {
    "name": "ipython",
    "version": 3
   },
   "file_extension": ".py",
   "mimetype": "text/x-python",
   "name": "python",
   "nbconvert_exporter": "python",
   "pygments_lexer": "ipython3",
   "version": "3.11.11"
  }
 },
 "nbformat": 4,
 "nbformat_minor": 5
}
